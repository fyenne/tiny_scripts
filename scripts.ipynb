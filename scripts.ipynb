{
 "cells": [
  {
   "cell_type": "code",
   "execution_count": null,
   "metadata": {},
   "outputs": [],
   "source": [
    "# import requests\n",
    "# import json\n",
    "# #  samo.yan@bunge.com / luna.zhang@bunge.com\n",
    "# # Password: LLI12345!\n",
    "# url = \"https://api.lloydslistintelligence.com/v1/\"\n",
    "# key = requests.post(url + \"tokenprovider\", json={\n",
    "#     \"username\": \"samo.yan@bunge.com\",\n",
    "#     \"password\": \"LLI12345!\"\n",
    "# }).text\n",
    "# key = json.loads(key)['Payload']\n",
    "# requests.get(\n",
    "#     url = url+\"portcongestion\",\n",
    "#     json = {\"output\":\"json\"},\n",
    "#     headers = {\"Authorization\":key},\n",
    "#     proxies={\"https\":\"85.115.62.180:80\"},\n",
    "#     timeout=3)"
   ]
  },
  {
   "cell_type": "code",
   "execution_count": null,
   "metadata": {},
   "outputs": [],
   "source": [
    "import base64\n",
    "base64.b64encode(b'AIgongzuo7=').decode(\"utf-8\") "
   ]
  },
  {
   "cell_type": "code",
   "execution_count": null,
   "metadata": {},
   "outputs": [],
   "source": [
    "a = b'QUlnb25nenVvNz0='\n",
    "a = base64.standard_b64decode(a).decode(\"utf-8\") \n",
    "a"
   ]
  },
  {
   "cell_type": "code",
   "execution_count": null,
   "metadata": {},
   "outputs": [],
   "source": []
  },
  {
   "cell_type": "code",
   "execution_count": null,
   "metadata": {},
   "outputs": [],
   "source": []
  }
 ],
 "metadata": {
  "kernelspec": {
   "display_name": "Python 3.8.13 ('siming')",
   "language": "python",
   "name": "python3"
  },
  "language_info": {
   "codemirror_mode": {
    "name": "ipython",
    "version": 3
   },
   "file_extension": ".py",
   "mimetype": "text/x-python",
   "name": "python",
   "nbconvert_exporter": "python",
   "pygments_lexer": "ipython3",
   "version": "3.8.13"
  },
  "orig_nbformat": 4,
  "vscode": {
   "interpreter": {
    "hash": "065e619d17d3fbfbb3e06b84b2f02c42546a2b6d9a8c9bb136bd8c61ddf47ad5"
   }
  }
 },
 "nbformat": 4,
 "nbformat_minor": 2
}
