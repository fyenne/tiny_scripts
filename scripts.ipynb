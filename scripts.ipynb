{
 "cells": [
  {
   "cell_type": "code",
   "execution_count": 1,
   "metadata": {},
   "outputs": [],
   "source": [
    "# import requests\n",
    "# import json\n",
    "# #  samo.yan@bunge.com / luna.zhang@bunge.com\n",
    "# # Password: LLI12345!\n",
    "# url = \"https://api.lloydslistintelligence.com/v1/\"\n",
    "# key = requests.post(url + \"tokenprovider\", json={\n",
    "#     \"username\": \"samo.yan@bunge.com\",\n",
    "#     \"password\": \"LLI12345!\"\n",
    "# }).text\n",
    "# key = json.loads(key)['Payload']\n",
    "# requests.get(\n",
    "#     url = url+\"portcongestion\",\n",
    "#     json = {\"output\":\"json\"},\n",
    "#     headers = {\"Authorization\":key},\n",
    "#     proxies={\"https\":\"85.115.62.180:80\"},\n",
    "#     timeout=3)"
   ]
  },
  {
   "cell_type": "code",
   "execution_count": 5,
   "metadata": {},
   "outputs": [],
   "source": [
    "import pyautogui\n",
    "import time"
   ]
  },
  {
   "cell_type": "code",
   "execution_count": 14,
   "metadata": {},
   "outputs": [],
   "source": [
    "time.sleep(5)\n",
    "# a = pyautogui.screenshot()\n",
    "button7location = pyautogui.locateOnScreen('./pic/1.png', minSearchTime=10)\n",
    "button7location"
   ]
  },
  {
   "cell_type": "code",
   "execution_count": 4,
   "metadata": {},
   "outputs": [],
   "source": [
    "# !pip3 install torch torchvision torchaudio\n",
    "# !pip3 install pyautogui"
   ]
  },
  {
   "cell_type": "code",
   "execution_count": null,
   "metadata": {},
   "outputs": [],
   "source": []
  }
 ],
 "metadata": {
  "kernelspec": {
   "display_name": "Python 3.9.12 ('siming')",
   "language": "python",
   "name": "python3"
  },
  "language_info": {
   "codemirror_mode": {
    "name": "ipython",
    "version": 3
   },
   "file_extension": ".py",
   "mimetype": "text/x-python",
   "name": "python",
   "nbconvert_exporter": "python",
   "pygments_lexer": "ipython3",
   "version": "3.9.12"
  },
  "orig_nbformat": 4,
  "vscode": {
   "interpreter": {
    "hash": "927a69b029e93e2d11a338ada4532861c47af682c8edf912d34a0ff55126568b"
   }
  }
 },
 "nbformat": 4,
 "nbformat_minor": 2
}
